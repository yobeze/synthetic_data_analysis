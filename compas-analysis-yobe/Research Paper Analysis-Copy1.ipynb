{
 "cells": [
  {
   "cell_type": "code",
   "execution_count": 1,
   "metadata": {},
   "outputs": [],
   "source": [
    "import pandas as pd\n",
    "import numpy as np\n",
    "import matplotlib.pyplot as plt\n",
    "import csv\n",
    "import datetime\n",
    "from datetime import datetime\n",
    "from scipy.stats import pearsonr\n",
    "from sdv.tabular import GaussianCopula"
   ]
  },
  {
   "cell_type": "code",
   "execution_count": 48,
   "metadata": {},
   "outputs": [],
   "source": [
    "# df_raw = pd.read_csv(\"dude.csv\")\n",
    "# df_raw.head(5)\n",
    "# print('Num rows: %d' %len(df_raw))\n",
    "loaded = GaussianCopula.load('synth_model.pkl')\n",
    "df_clean = loaded.sample(1000)"
   ]
  },
  {
   "cell_type": "code",
   "execution_count": 49,
   "metadata": {},
   "outputs": [
    {
     "name": "stdout",
     "output_type": "stream",
     "text": [
      "<class 'pandas.core.frame.DataFrame'>\n",
      "RangeIndex: 1000 entries, 0 to 999\n",
      "Data columns (total 40 columns):\n",
      " #   Column                   Non-Null Count  Dtype  \n",
      "---  ------                   --------------  -----  \n",
      " 0   id                       1000 non-null   float64\n",
      " 1   name                     1000 non-null   object \n",
      " 2   first                    1000 non-null   object \n",
      " 3   last                     1000 non-null   object \n",
      " 4   compas_screening_date    1000 non-null   object \n",
      " 5   sex                      856 non-null    object \n",
      " 6   dob                      1000 non-null   object \n",
      " 7   age                      1000 non-null   float64\n",
      " 8   age_cat                  959 non-null    object \n",
      " 9   race                     990 non-null    object \n",
      " 10  juv_fel_count            1000 non-null   float64\n",
      " 11  decile_score             1000 non-null   float64\n",
      " 12  juv_misd_count           1000 non-null   float64\n",
      " 13  juv_other_count          1000 non-null   float64\n",
      " 14  priors_count             1000 non-null   float64\n",
      " 15  days_b_screening_arrest  609 non-null    float64\n",
      " 16  c_jail_in                334 non-null    object \n",
      " 17  c_jail_out               335 non-null    object \n",
      " 18  c_case_number            353 non-null    object \n",
      " 19  c_offense_date           288 non-null    object \n",
      " 20  c_days_from_compas       633 non-null    float64\n",
      " 21  c_charge_degree          888 non-null    object \n",
      " 22  c_charge_desc            424 non-null    object \n",
      " 23  is_recid                 1000 non-null   float64\n",
      " 24  is_violent_recid         1000 non-null   float64\n",
      " 25  type_of_assessment       924 non-null    object \n",
      " 26  decile_score.1           1000 non-null   float64\n",
      " 27  score_text               960 non-null    object \n",
      " 28  screening_date           1000 non-null   object \n",
      " 29  v_type_of_assessment     924 non-null    object \n",
      " 30  v_decile_score           1000 non-null   float64\n",
      " 31  v_score_text             995 non-null    object \n",
      " 32  v_screening_date         1000 non-null   object \n",
      " 33  in_custody               349 non-null    object \n",
      " 34  out_custody              348 non-null    object \n",
      " 35  priors_count.1           1000 non-null   float64\n",
      " 36  start                    1000 non-null   float64\n",
      " 37  end                      1000 non-null   float64\n",
      " 38  event                    1000 non-null   float64\n",
      " 39  two_year_recid           1000 non-null   float64\n",
      "dtypes: float64(18), object(22)\n",
      "memory usage: 312.6+ KB\n"
     ]
    }
   ],
   "source": [
    "df_clean.info()"
   ]
  },
  {
   "cell_type": "markdown",
   "metadata": {},
   "source": [
    "Not all rows are necessary/beneficial for first round of analysis.\n",
    "Some of the preliminary preprocessing has been borrowed from ProPublica's initial steps in order to keep my analysis consistent.\n",
    "\n",
    "Some reasons for row removal:\n",
    "- Missing data\n",
    "- If the charge date of a defendants Compas scored crime was not within 30 days from when the person was arrested, we assume that because of data quality reasons, that we do not have the right offense.\n",
    "- Inserted the recidivist flag -- is_recid -- to be -1 if we could not find a compas case at all.\n",
    "- Ordinary offenses have been removed (e.g. traffic offenses)\n",
    "- Rows with no score (N/A) have been removed"
   ]
  },
  {
   "cell_type": "code",
   "execution_count": 50,
   "metadata": {},
   "outputs": [
    {
     "name": "stdout",
     "output_type": "stream",
     "text": [
      "Num rows: 593\n"
     ]
    },
    {
     "data": {
      "text/html": [
       "<div>\n",
       "<style scoped>\n",
       "    .dataframe tbody tr th:only-of-type {\n",
       "        vertical-align: middle;\n",
       "    }\n",
       "\n",
       "    .dataframe tbody tr th {\n",
       "        vertical-align: top;\n",
       "    }\n",
       "\n",
       "    .dataframe thead th {\n",
       "        text-align: right;\n",
       "    }\n",
       "</style>\n",
       "<table border=\"1\" class=\"dataframe\">\n",
       "  <thead>\n",
       "    <tr style=\"text-align: right;\">\n",
       "      <th></th>\n",
       "      <th>id</th>\n",
       "      <th>name</th>\n",
       "      <th>first</th>\n",
       "      <th>last</th>\n",
       "      <th>compas_screening_date</th>\n",
       "      <th>sex</th>\n",
       "      <th>dob</th>\n",
       "      <th>age</th>\n",
       "      <th>age_cat</th>\n",
       "      <th>race</th>\n",
       "      <th>...</th>\n",
       "      <th>v_decile_score</th>\n",
       "      <th>v_score_text</th>\n",
       "      <th>v_screening_date</th>\n",
       "      <th>in_custody</th>\n",
       "      <th>out_custody</th>\n",
       "      <th>priors_count.1</th>\n",
       "      <th>start</th>\n",
       "      <th>end</th>\n",
       "      <th>event</th>\n",
       "      <th>two_year_recid</th>\n",
       "    </tr>\n",
       "  </thead>\n",
       "  <tbody>\n",
       "    <tr>\n",
       "      <th>0</th>\n",
       "      <td>245.0</td>\n",
       "      <td>jasmin negron</td>\n",
       "      <td>joseph</td>\n",
       "      <td>jones</td>\n",
       "      <td>4/20/13</td>\n",
       "      <td>Male</td>\n",
       "      <td>9/19/95</td>\n",
       "      <td>19.0</td>\n",
       "      <td>Less than 25</td>\n",
       "      <td>African-American</td>\n",
       "      <td>...</td>\n",
       "      <td>5.0</td>\n",
       "      <td>Low</td>\n",
       "      <td>4/20/13</td>\n",
       "      <td>NaN</td>\n",
       "      <td>NaN</td>\n",
       "      <td>0.0</td>\n",
       "      <td>9.0</td>\n",
       "      <td>97.0</td>\n",
       "      <td>1.0</td>\n",
       "      <td>1.0</td>\n",
       "    </tr>\n",
       "    <tr>\n",
       "      <th>1</th>\n",
       "      <td>112.0</td>\n",
       "      <td>brandon minter</td>\n",
       "      <td>clarence</td>\n",
       "      <td>minter</td>\n",
       "      <td>9/9/13</td>\n",
       "      <td>Male</td>\n",
       "      <td>11/27/91</td>\n",
       "      <td>51.0</td>\n",
       "      <td>25 - 45</td>\n",
       "      <td>African-American</td>\n",
       "      <td>...</td>\n",
       "      <td>2.0</td>\n",
       "      <td>Low</td>\n",
       "      <td>9/9/13</td>\n",
       "      <td>9/8/13</td>\n",
       "      <td>7/16/15</td>\n",
       "      <td>4.0</td>\n",
       "      <td>12.0</td>\n",
       "      <td>835.0</td>\n",
       "      <td>1.0</td>\n",
       "      <td>1.0</td>\n",
       "    </tr>\n",
       "    <tr>\n",
       "      <th>2</th>\n",
       "      <td>143.0</td>\n",
       "      <td>porfirio zamot</td>\n",
       "      <td>porfirio</td>\n",
       "      <td>zamot</td>\n",
       "      <td>2/28/13</td>\n",
       "      <td>Male</td>\n",
       "      <td>11/24/64</td>\n",
       "      <td>40.0</td>\n",
       "      <td>Less than 25</td>\n",
       "      <td>Hispanic</td>\n",
       "      <td>...</td>\n",
       "      <td>3.0</td>\n",
       "      <td>Low</td>\n",
       "      <td>2/28/13</td>\n",
       "      <td>2/27/13</td>\n",
       "      <td>1/25/14</td>\n",
       "      <td>2.0</td>\n",
       "      <td>42.0</td>\n",
       "      <td>405.0</td>\n",
       "      <td>0.0</td>\n",
       "      <td>0.0</td>\n",
       "    </tr>\n",
       "    <tr>\n",
       "      <th>3</th>\n",
       "      <td>212.0</td>\n",
       "      <td>travis wilson</td>\n",
       "      <td>travis</td>\n",
       "      <td>wilson</td>\n",
       "      <td>12/19/14</td>\n",
       "      <td>Male</td>\n",
       "      <td>4/12/88</td>\n",
       "      <td>44.0</td>\n",
       "      <td>25 - 45</td>\n",
       "      <td>African-American</td>\n",
       "      <td>...</td>\n",
       "      <td>2.0</td>\n",
       "      <td>Low</td>\n",
       "      <td>12/19/14</td>\n",
       "      <td>NaN</td>\n",
       "      <td>NaN</td>\n",
       "      <td>1.0</td>\n",
       "      <td>3.0</td>\n",
       "      <td>153.0</td>\n",
       "      <td>1.0</td>\n",
       "      <td>0.0</td>\n",
       "    </tr>\n",
       "    <tr>\n",
       "      <th>4</th>\n",
       "      <td>164.0</td>\n",
       "      <td>darling madrano</td>\n",
       "      <td>brandon</td>\n",
       "      <td>madrano</td>\n",
       "      <td>1/16/13</td>\n",
       "      <td>Male</td>\n",
       "      <td>4/10/87</td>\n",
       "      <td>40.0</td>\n",
       "      <td>25 - 45</td>\n",
       "      <td>Other</td>\n",
       "      <td>...</td>\n",
       "      <td>2.0</td>\n",
       "      <td>Low</td>\n",
       "      <td>1/16/13</td>\n",
       "      <td>1/16/13</td>\n",
       "      <td>3/3/14</td>\n",
       "      <td>2.0</td>\n",
       "      <td>42.0</td>\n",
       "      <td>900.0</td>\n",
       "      <td>0.0</td>\n",
       "      <td>0.0</td>\n",
       "    </tr>\n",
       "  </tbody>\n",
       "</table>\n",
       "<p>5 rows × 40 columns</p>\n",
       "</div>"
      ],
      "text/plain": [
       "      id             name     first     last compas_screening_date   sex  \\\n",
       "0  245.0    jasmin negron    joseph    jones               4/20/13  Male   \n",
       "1  112.0   brandon minter  clarence   minter                9/9/13  Male   \n",
       "2  143.0   porfirio zamot  porfirio    zamot               2/28/13  Male   \n",
       "3  212.0    travis wilson    travis   wilson              12/19/14  Male   \n",
       "4  164.0  darling madrano   brandon  madrano               1/16/13  Male   \n",
       "\n",
       "        dob   age       age_cat              race  ...  v_decile_score  \\\n",
       "0   9/19/95  19.0  Less than 25  African-American  ...             5.0   \n",
       "1  11/27/91  51.0       25 - 45  African-American  ...             2.0   \n",
       "2  11/24/64  40.0  Less than 25          Hispanic  ...             3.0   \n",
       "3   4/12/88  44.0       25 - 45  African-American  ...             2.0   \n",
       "4   4/10/87  40.0       25 - 45             Other  ...             2.0   \n",
       "\n",
       "   v_score_text  v_screening_date  in_custody  out_custody  priors_count.1  \\\n",
       "0           Low           4/20/13         NaN          NaN             0.0   \n",
       "1           Low            9/9/13      9/8/13      7/16/15             4.0   \n",
       "2           Low           2/28/13     2/27/13      1/25/14             2.0   \n",
       "3           Low          12/19/14         NaN          NaN             1.0   \n",
       "4           Low           1/16/13     1/16/13       3/3/14             2.0   \n",
       "\n",
       "  start    end event two_year_recid  \n",
       "0   9.0   97.0   1.0            1.0  \n",
       "1  12.0  835.0   1.0            1.0  \n",
       "2  42.0  405.0   0.0            0.0  \n",
       "3   3.0  153.0   1.0            0.0  \n",
       "4  42.0  900.0   0.0            0.0  \n",
       "\n",
       "[5 rows x 40 columns]"
      ]
     },
     "execution_count": 50,
     "metadata": {},
     "output_type": "execute_result"
    }
   ],
   "source": [
    "df_clean = df_clean[((df_clean['days_b_screening_arrest'] <=30) & \n",
    "      (df_clean['days_b_screening_arrest'] >= -30) &\n",
    "      (df_clean['is_recid'] != -1) &\n",
    "      (df_clean['c_charge_degree'] != 'O') & \n",
    "      (df_clean['score_text'] != 'N/A')\n",
    "     )]\n",
    "print('Num rows: %d' %len(df_clean))\n",
    "df_clean.head()"
   ]
  },
  {
   "cell_type": "markdown",
   "metadata": {},
   "source": [
    "Higher COMPAS scores have a slight correlation with a longer length of stay"
   ]
  },
  {
   "cell_type": "code",
   "execution_count": 51,
   "metadata": {},
   "outputs": [],
   "source": [
    "# count = 0\n",
    "# df_clean.loc[df_clean['race'] == 'African American']"
   ]
  },
  {
   "cell_type": "code",
   "execution_count": 52,
   "metadata": {},
   "outputs": [],
   "source": [
    "def date_from_str(s):\n",
    "    return datetime.strptime(s, '%Y-%m-%d')\n",
    "#     return datetime.strftime(s_form, \"%m/%d/%y %H:%M\")\n",
    "# df_clean.iloc[]\n",
    "# df_clean.head(5)"
   ]
  },
  {
   "cell_type": "code",
   "execution_count": 53,
   "metadata": {},
   "outputs": [],
   "source": [
    "# df_clean['length_of_stay'] = (df_clean['c_jail_out'].apply(date_from_str) - df_clean['c_jail_in'].apply(date_from_str))\n",
    "# stay_score_corr = pearsonr(df_clean['length_of_stay'], df_clean['decile_score'])[0]\n",
    "# print('Correlation btw stay length and COMPAS scores: %.3f' % stay_score_corr)"
   ]
  },
  {
   "cell_type": "markdown",
   "metadata": {},
   "source": [
    "Demographic breakdown"
   ]
  },
  {
   "cell_type": "code",
   "execution_count": 54,
   "metadata": {},
   "outputs": [
    {
     "data": {
      "text/plain": [
       "25 - 45            437\n",
       "Less than 25       149\n",
       "Greater than 45      1\n",
       "Name: age_cat, dtype: int64"
      ]
     },
     "execution_count": 54,
     "metadata": {},
     "output_type": "execute_result"
    }
   ],
   "source": [
    "df_clean['age_cat'].value_counts()\n",
    "#age category"
   ]
  },
  {
   "cell_type": "code",
   "execution_count": 55,
   "metadata": {},
   "outputs": [
    {
     "data": {
      "text/plain": [
       "African-American    395\n",
       "Other               100\n",
       "Hispanic             95\n",
       "Caucasian             3\n",
       "Name: race, dtype: int64"
      ]
     },
     "execution_count": 55,
     "metadata": {},
     "output_type": "execute_result"
    }
   ],
   "source": [
    "df_clean['race'].value_counts()\n",
    "# df_clean['Native American'].value_counts()"
   ]
  },
  {
   "cell_type": "code",
   "execution_count": 56,
   "metadata": {},
   "outputs": [
    {
     "name": "stdout",
     "output_type": "stream",
     "text": [
      "Black defendants: 67.05%\n",
      "White defendants: 1.15%\n",
      "Hispanic defendants: 16.79%\n"
     ]
    }
   ],
   "source": [
    "print(\"Black defendants: %.2f%%\" %            (2747 / 4097 * 100))\n",
    "print(\"White defendants: %.2f%%\" %            (47 / 4097 * 100))\n",
    "print(\"Hispanic defendants: %.2f%%\" %         (688  / 4097 * 100))"
   ]
  },
  {
   "cell_type": "code",
   "execution_count": 57,
   "metadata": {},
   "outputs": [
    {
     "data": {
      "text/plain": [
       "Low       419\n",
       "High      173\n",
       "Medium      1\n",
       "Name: score_text, dtype: int64"
      ]
     },
     "execution_count": 57,
     "metadata": {},
     "output_type": "execute_result"
    }
   ],
   "source": [
    "df_clean['score_text'].value_counts()"
   ]
  },
  {
   "cell_type": "code",
   "execution_count": 58,
   "metadata": {},
   "outputs": [
    {
     "data": {
      "text/html": [
       "<div>\n",
       "<style scoped>\n",
       "    .dataframe tbody tr th:only-of-type {\n",
       "        vertical-align: middle;\n",
       "    }\n",
       "\n",
       "    .dataframe tbody tr th {\n",
       "        vertical-align: top;\n",
       "    }\n",
       "\n",
       "    .dataframe thead th {\n",
       "        text-align: right;\n",
       "    }\n",
       "</style>\n",
       "<table border=\"1\" class=\"dataframe\">\n",
       "  <thead>\n",
       "    <tr style=\"text-align: right;\">\n",
       "      <th>race</th>\n",
       "      <th>African-American</th>\n",
       "      <th>Caucasian</th>\n",
       "      <th>Hispanic</th>\n",
       "      <th>Other</th>\n",
       "    </tr>\n",
       "    <tr>\n",
       "      <th>sex</th>\n",
       "      <th></th>\n",
       "      <th></th>\n",
       "      <th></th>\n",
       "      <th></th>\n",
       "    </tr>\n",
       "  </thead>\n",
       "  <tbody>\n",
       "    <tr>\n",
       "      <th>Female</th>\n",
       "      <td>3</td>\n",
       "      <td>0</td>\n",
       "      <td>2</td>\n",
       "      <td>0</td>\n",
       "    </tr>\n",
       "    <tr>\n",
       "      <th>Male</th>\n",
       "      <td>385</td>\n",
       "      <td>3</td>\n",
       "      <td>88</td>\n",
       "      <td>97</td>\n",
       "    </tr>\n",
       "  </tbody>\n",
       "</table>\n",
       "</div>"
      ],
      "text/plain": [
       "race    African-American  Caucasian  Hispanic  Other\n",
       "sex                                                 \n",
       "Female                 3          0         2      0\n",
       "Male                 385          3        88     97"
      ]
     },
     "execution_count": 58,
     "metadata": {},
     "output_type": "execute_result"
    }
   ],
   "source": [
    "pd.crosstab(df_clean.sex, df_clean.race)"
   ]
  },
  {
   "cell_type": "code",
   "execution_count": 59,
   "metadata": {},
   "outputs": [
    {
     "data": {
      "text/html": [
       "<div>\n",
       "<style scoped>\n",
       "    .dataframe tbody tr th:only-of-type {\n",
       "        vertical-align: middle;\n",
       "    }\n",
       "\n",
       "    .dataframe tbody tr th {\n",
       "        vertical-align: top;\n",
       "    }\n",
       "\n",
       "    .dataframe thead th {\n",
       "        text-align: right;\n",
       "    }\n",
       "</style>\n",
       "<table border=\"1\" class=\"dataframe\">\n",
       "  <thead>\n",
       "    <tr style=\"text-align: right;\">\n",
       "      <th>race</th>\n",
       "      <th>African-American</th>\n",
       "      <th>Caucasian</th>\n",
       "      <th>Hispanic</th>\n",
       "      <th>Other</th>\n",
       "    </tr>\n",
       "    <tr>\n",
       "      <th>decile_score</th>\n",
       "      <th></th>\n",
       "      <th></th>\n",
       "      <th></th>\n",
       "      <th></th>\n",
       "    </tr>\n",
       "  </thead>\n",
       "  <tbody>\n",
       "    <tr>\n",
       "      <th>1.0</th>\n",
       "      <td>26</td>\n",
       "      <td>0</td>\n",
       "      <td>20</td>\n",
       "      <td>19</td>\n",
       "    </tr>\n",
       "    <tr>\n",
       "      <th>2.0</th>\n",
       "      <td>44</td>\n",
       "      <td>1</td>\n",
       "      <td>25</td>\n",
       "      <td>20</td>\n",
       "    </tr>\n",
       "    <tr>\n",
       "      <th>3.0</th>\n",
       "      <td>63</td>\n",
       "      <td>1</td>\n",
       "      <td>17</td>\n",
       "      <td>16</td>\n",
       "    </tr>\n",
       "    <tr>\n",
       "      <th>4.0</th>\n",
       "      <td>54</td>\n",
       "      <td>0</td>\n",
       "      <td>13</td>\n",
       "      <td>17</td>\n",
       "    </tr>\n",
       "    <tr>\n",
       "      <th>5.0</th>\n",
       "      <td>66</td>\n",
       "      <td>1</td>\n",
       "      <td>8</td>\n",
       "      <td>7</td>\n",
       "    </tr>\n",
       "    <tr>\n",
       "      <th>6.0</th>\n",
       "      <td>37</td>\n",
       "      <td>0</td>\n",
       "      <td>4</td>\n",
       "      <td>13</td>\n",
       "    </tr>\n",
       "    <tr>\n",
       "      <th>7.0</th>\n",
       "      <td>44</td>\n",
       "      <td>0</td>\n",
       "      <td>4</td>\n",
       "      <td>5</td>\n",
       "    </tr>\n",
       "    <tr>\n",
       "      <th>8.0</th>\n",
       "      <td>26</td>\n",
       "      <td>0</td>\n",
       "      <td>3</td>\n",
       "      <td>2</td>\n",
       "    </tr>\n",
       "    <tr>\n",
       "      <th>9.0</th>\n",
       "      <td>19</td>\n",
       "      <td>0</td>\n",
       "      <td>1</td>\n",
       "      <td>1</td>\n",
       "    </tr>\n",
       "    <tr>\n",
       "      <th>10.0</th>\n",
       "      <td>16</td>\n",
       "      <td>0</td>\n",
       "      <td>0</td>\n",
       "      <td>0</td>\n",
       "    </tr>\n",
       "  </tbody>\n",
       "</table>\n",
       "</div>"
      ],
      "text/plain": [
       "race          African-American  Caucasian  Hispanic  Other\n",
       "decile_score                                              \n",
       "1.0                         26          0        20     19\n",
       "2.0                         44          1        25     20\n",
       "3.0                         63          1        17     16\n",
       "4.0                         54          0        13     17\n",
       "5.0                         66          1         8      7\n",
       "6.0                         37          0         4     13\n",
       "7.0                         44          0         4      5\n",
       "8.0                         26          0         3      2\n",
       "9.0                         19          0         1      1\n",
       "10.0                        16          0         0      0"
      ]
     },
     "execution_count": 59,
     "metadata": {},
     "output_type": "execute_result"
    }
   ],
   "source": [
    "pd.crosstab(df_clean.decile_score, df_clean.race)"
   ]
  },
  {
   "cell_type": "code",
   "execution_count": 60,
   "metadata": {},
   "outputs": [
    {
     "name": "stdout",
     "output_type": "stream",
     "text": [
      "Num with two-year recidivism: 51.60%\n"
     ]
    }
   ],
   "source": [
    "print('Num with two-year recidivism: %.2f%%' % (len(df_clean[df_clean['two_year_recid'] == 1]) / len(df_clean) * 100.))"
   ]
  },
  {
   "cell_type": "code",
   "execution_count": 61,
   "metadata": {},
   "outputs": [],
   "source": [
    "%matplotlib inline\n",
    "from sklearn.linear_model import LogisticRegression"
   ]
  },
  {
   "cell_type": "markdown",
   "metadata": {},
   "source": [
    "Judges are often presented with two sets of scores from the Compas system -- one that classifies people into High, Medium and Low risk, and a corresponding decile score. There is a clear downward trend in the decile scores as those scores increase for white defendants."
   ]
  },
  {
   "cell_type": "code",
   "execution_count": 62,
   "metadata": {},
   "outputs": [
    {
     "data": {
      "text/plain": [
       "Text(0, 0.5, 'Count')"
      ]
     },
     "execution_count": 62,
     "metadata": {},
     "output_type": "execute_result"
    },
    {
     "data": {
      "image/png": "[encoded data removed]",
      "text/plain": [
       "<Figure size 432x288 with 1 Axes>"
      ]
     },
     "metadata": {
      "needs_background": "light"
     },
     "output_type": "display_data"
    }
   ],
   "source": [
    "black_df = df_clean[df_clean['race'] == 'African-American']\n",
    "black_df['decile_score'].hist(edgecolor='white', bins=np.arange(13)-0.5,grid=False)\n",
    "plt.ylim([0,1000])\n",
    "plt.xlim([0,11])\n",
    "plt.title('Black defendant decile scores')\n",
    "plt.xlabel('Score decile')\n",
    "plt.ylabel('Count')"
   ]
  },
  {
   "cell_type": "code",
   "execution_count": 63,
   "metadata": {},
   "outputs": [
    {
     "data": {
      "text/plain": [
       "Text(0.5, 0, 'Score decile')"
      ]
     },
     "execution_count": 63,
     "metadata": {},
     "output_type": "execute_result"
    },
    {
     "data": {
      "image/png": "[encoded data removed]",
      "text/plain": [
       "<Figure size 432x288 with 1 Axes>"
      ]
     },
     "metadata": {
      "needs_background": "light"
     },
     "output_type": "display_data"
    }
   ],
   "source": [
    "black_df = df_clean[df_clean['race'] == 'Caucasian']\n",
    "black_df['decile_score'].hist(edgecolor='white', bins=np.arange(13)-0.5,grid=False)\n",
    "plt.ylim([0,700])\n",
    "plt.xlim([0,11])\n",
    "plt.title('White defendants decile scores')\n",
    "plt.xlabel('Score decile')"
   ]
  },
  {
   "cell_type": "markdown",
   "metadata": {},
   "source": [
    "After filtering out bad rows, our first question is whether there is a significant difference in Compas scores between races. To do so we need to change some variables into factors, and run a logistic regression, comparing low scores to high scores."
   ]
  },
  {
   "cell_type": "code",
   "execution_count": 20,
   "metadata": {},
   "outputs": [],
   "source": [
    "lr = LogisticRegression(solver='lbfgs')"
   ]
  },
  {
   "cell_type": "code",
   "execution_count": 21,
   "metadata": {},
   "outputs": [],
   "source": [
    "df_crime = pd.get_dummies(df_clean['c_charge_degree'],prefix='crimefactor',drop_first=True)\n",
    "df_age = pd.get_dummies(df_clean['age_cat'],prefix='age')\n",
    "df_race = pd.get_dummies(df_clean['race'],prefix='race')\n",
    "df_gender = pd.get_dummies(df_clean['sex'],prefix='sex',drop_first=True)\n",
    "df_score = pd.get_dummies(df_clean['score_text'] != 'Low',prefix='score_factor',drop_first=True)"
   ]
  },
  {
   "cell_type": "code",
   "execution_count": 22,
   "metadata": {},
   "outputs": [],
   "source": [
    "df_lr = pd.concat([df_crime, df_age,df_race,df_gender,\n",
    "                   df_clean['priors_count'],df_clean['two_year_recid']\n",
    "                  ],axis=1)"
   ]
  },
  {
   "cell_type": "code",
   "execution_count": 23,
   "metadata": {},
   "outputs": [
    {
     "name": "stderr",
     "output_type": "stream",
     "text": [
      "/usr/local/lib/python3.8/site-packages/sklearn/linear_model/_logistic.py:763: ConvergenceWarning: lbfgs failed to converge (status=1):\n",
      "STOP: TOTAL NO. of ITERATIONS REACHED LIMIT.\n",
      "\n",
      "Increase the number of iterations (max_iter) or scale the data as shown in:\n",
      "    https://scikit-learn.org/stable/modules/preprocessing.html\n",
      "Please also refer to the documentation for alternative solver options:\n",
      "    https://scikit-learn.org/stable/modules/linear_model.html#logistic-regression\n",
      "  n_iter_i = _check_optimize_result(\n"
     ]
    },
    {
     "data": {
      "text/plain": [
       "LogisticRegression()"
      ]
     },
     "execution_count": 23,
     "metadata": {},
     "output_type": "execute_result"
    }
   ],
   "source": [
    "lr.fit(df_lr,df_score.values.ravel())"
   ]
  },
  {
   "cell_type": "code",
   "execution_count": 41,
   "metadata": {},
   "outputs": [],
   "source": [
    "cols = np.concatenate([df_crime.columns.values, \n",
    "                df_age.columns.values,\n",
    "                df_race.columns.values,\n",
    "                df_gender.columns.values,\n",
    "                ['priors_count'],\n",
    "                ['two_year_recid']\n",
    "               ])"
   ]
  },
  {
   "cell_type": "code",
   "execution_count": 42,
   "metadata": {},
   "outputs": [
    {
     "name": "stdout",
     "output_type": "stream",
     "text": [
      "-2.934 (Intercept)\n",
      "-0.344 crimefactor_M\n",
      "1.035 age_25 - 45\n",
      "-0.640 age_Greater than 45\n",
      "1.182 age_Less than 25\n",
      "0.203 race_African-American\n",
      "0.387 race_Caucasian\n",
      "-0.209 race_Hispanic\n",
      "-0.396 race_Other\n",
      "-0.522 sex_Male\n",
      "0.392 priors_count\n",
      "0.443 two_year_recid\n"
     ]
    }
   ],
   "source": [
    "assert len(cols) == len(lr.coef_[0])\n",
    "print('%.3f' % lr.intercept_, '(Intercept)') \n",
    "for i,j in zip(cols, lr.coef_[0]): print('%.3f' % j, i)"
   ]
  },
  {
   "cell_type": "markdown",
   "metadata": {},
   "source": [
    "Correcting for the seriousness of their crime, previous arrests, and future criminal behavior, these results show that Black defendants are 44% more likely to receive a higher COMPAS score than white defendants. (Correcting as in "
   ]
  },
  {
   "cell_type": "code",
   "execution_count": 43,
   "metadata": {},
   "outputs": [
    {
     "name": "stdout",
     "output_type": "stream",
     "text": [
      "Black defendants: 1.5091\n"
     ]
    }
   ],
   "source": [
    "control = np.exp(-3.047) / (1 + np.exp(-3.047))\n",
    "black_odds = np.exp(0.436) / (1 - control + (control * np.exp(0.436)))\n",
    "print('Black defendants: %.4f' % black_odds)"
   ]
  },
  {
   "cell_type": "code",
   "execution_count": 44,
   "metadata": {},
   "outputs": [],
   "source": [
    "import statsmodels.api as sm\n",
    "from statsmodels.formula.api import logit\n",
    "catCols = ['score_text','age_cat','sex','race','c_charge_degree']\n",
    "df_clean.loc[:,catCols] = df_clean.loc[:,catCols].astype('category')\n",
    "\n",
    "# dfDummies = pd.get_dummies(data = dfFiltered.loc[dfFiltered['score_text'] != 'Low',:], columns=catCols)\n",
    "dfDummies = pd.get_dummies(data = df_clean, columns=catCols)\n",
    "\n",
    "# Clean column names\n",
    "new_column_names = [col.lstrip().rstrip().lower().replace(\" \", \"_\").replace(\"-\", \"_\") for col in dfDummies.columns]\n",
    "dfDummies.columns = new_column_names\n",
    "\n",
    "# We want another variable that combines Medium and High\n",
    "dfDummies['score_text_medhi'] = dfDummies['score_text_medium'] + dfDummies['score_text_high']\n"
   ]
  },
  {
   "cell_type": "code",
   "execution_count": 45,
   "metadata": {},
   "outputs": [
    {
     "name": "stdout",
     "output_type": "stream",
     "text": [
      "Warning: Maximum number of iterations has been exceeded.\n",
      "         Current function value: 0.535271\n",
      "         Iterations: 35\n",
      "                           Logit Regression Results                           \n",
      "==============================================================================\n",
      "Dep. Variable:       score_text_medhi   No. Observations:                 9999\n",
      "Model:                          Logit   Df Residuals:                     9989\n",
      "Method:                           MLE   Df Model:                            9\n",
      "Date:                Tue, 09 Nov 2021   Pseudo R-squ.:                  0.1582\n",
      "Time:                        20:01:39   Log-Likelihood:                -5352.2\n",
      "converged:                      False   LL-Null:                       -6358.2\n",
      "Covariance Type:            nonrobust   LLR p-value:                     0.000\n",
      "===========================================================================================\n",
      "                              coef    std err          z      P>|z|      [0.025      0.975]\n",
      "-------------------------------------------------------------------------------------------\n",
      "Intercept                  -2.1892      0.153    -14.300      0.000      -2.489      -1.889\n",
      "sex_female                 -0.4445      0.810     -0.548      0.583      -2.033       1.144\n",
      "age_cat_greater_than_45   -16.1491   3866.492     -0.004      0.997   -7594.335    7562.037\n",
      "age_cat_less_than_25        0.1712      0.051      3.362      0.001       0.071       0.271\n",
      "race_african_american       0.2564      0.147      1.744      0.081      -0.032       0.545\n",
      "race_hispanic              -0.3906      0.155     -2.517      0.012      -0.695      -0.086\n",
      "race_other                 -0.2699      0.155     -1.740      0.082      -0.574       0.034\n",
      "priors_count                0.3502      0.011     31.060      0.000       0.328       0.372\n",
      "c_charge_degree_m          -0.4250      0.105     -4.053      0.000      -0.631      -0.219\n",
      "two_year_recid              0.3670      0.049      7.424      0.000       0.270       0.464\n",
      "===========================================================================================\n"
     ]
    },
    {
     "name": "stderr",
     "output_type": "stream",
     "text": [
      "/usr/local/lib/python3.8/site-packages/statsmodels/base/model.py:604: ConvergenceWarning: Maximum Likelihood optimization failed to converge. Check mle_retvals\n",
      "  warnings.warn(\"Maximum Likelihood optimization failed to \"\n"
     ]
    }
   ],
   "source": [
    "# R-style specification\n",
    "formula = 'score_text_medhi ~ sex_female + age_cat_greater_than_45 + age_cat_less_than_25 + race_african_american + race_hispanic + race_other + priors_count + c_charge_degree_m + two_year_recid'\n",
    "\n",
    "score_mod = logit(formula, data = dfDummies).fit()\n",
    "print(score_mod.summary())"
   ]
  },
  {
   "cell_type": "code",
   "execution_count": 47,
   "metadata": {},
   "outputs": [
    {
     "data": {
      "text/plain": [
       "1.7103138200509116"
      ]
     },
     "execution_count": 47,
     "metadata": {},
     "output_type": "execute_result"
    }
   ],
   "source": [
    "np.exp(0.571) / (1 - control + (control * np.exp(0.571)))"
   ]
  },
  {
   "cell_type": "code",
   "execution_count": null,
   "metadata": {},
   "outputs": [],
   "source": []
  }
 ],
 "metadata": {
  "kernelspec": {
   "display_name": "Python 3",
   "language": "python",
   "name": "python3"
  },
  "language_info": {
   "codemirror_mode": {
    "name": "ipython",
    "version": 3
   },
   "file_extension": ".py",
   "mimetype": "text/x-python",
   "name": "python",
   "nbconvert_exporter": "python",
   "pygments_lexer": "ipython3",
   "version": "3.8.5"
  }
 },
 "nbformat": 4,
 "nbformat_minor": 5
}
